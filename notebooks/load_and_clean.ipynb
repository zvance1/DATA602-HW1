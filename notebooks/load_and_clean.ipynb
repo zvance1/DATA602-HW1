{
 "cells": [
  {
   "cell_type": "code",
   "execution_count": 57,
   "metadata": {},
   "outputs": [],
   "source": [
    "#imports\n",
    "import pandas as pd\n",
    "import seaborn as sns\n",
    "import numpy as np"
   ]
  },
  {
   "cell_type": "code",
   "execution_count": 58,
   "metadata": {},
   "outputs": [
    {
     "name": "stdout",
     "output_type": "stream",
     "text": [
      "<class 'pandas.core.frame.DataFrame'>\n",
      "RangeIndex: 414 entries, 0 to 413\n",
      "Data columns (total 8 columns):\n",
      " #   Column                               Non-Null Count  Dtype  \n",
      "---  ------                               --------------  -----  \n",
      " 0   No                                   414 non-null    int64  \n",
      " 1   transaction date                     414 non-null    float64\n",
      " 2   house age                            414 non-null    float64\n",
      " 3   distance to the nearest MRT station  414 non-null    float64\n",
      " 4   number of convenience stores         414 non-null    int64  \n",
      " 5   latitude                             414 non-null    float64\n",
      " 6   longitude                            414 non-null    float64\n",
      " 7   house price of unit area             414 non-null    float64\n",
      "dtypes: float64(6), int64(2)\n",
      "memory usage: 26.0 KB\n"
     ]
    }
   ],
   "source": [
    "#load the csv for cleaning\n",
    "house_value = pd.read_csv(\"../data/real_estate_value.csv\", encoding= 'utf-8')\n",
    "\n",
    "#take a look at the data\n",
    "house_value.info()\n",
    "house_value.head(2)\n",
    "\n",
    "#copy the data and clean from the copy\n",
    "cleaned_df = house_value.copy()\n",
    "\n",
    "#the first column, No, is just an index number - drop it\n",
    "cleaned_df = cleaned_df.drop(columns=['No'])\n",
    "\n",
    "#rename to fill spaces with underscores\n",
    "cleaned_df = cleaned_df.rename(columns= lambda x: x.replace(\" \", \"_\"));"
   ]
  },
  {
   "cell_type": "code",
   "execution_count": 59,
   "metadata": {},
   "outputs": [
    {
     "data": {
      "text/plain": [
       "<AxesSubplot:xlabel='house_age'>"
      ]
     },
     "execution_count": 59,
     "metadata": {},
     "output_type": "execute_result"
    },
    {
     "data": {
      "image/png": "[encoded data removed]",
      "text/plain": [
       "<Figure size 432x288 with 1 Axes>"
      ]
     },
     "metadata": {
      "needs_background": "light"
     },
     "output_type": "display_data"
    }
   ],
   "source": [
    "#use the following box and whisker plots to determine which features need to have outliers removed.\n",
    "#Outliers in these visualizations are represented by the individual points outside the whisker lines of the plot.\n",
    "sns.boxplot(x=cleaned_df['house_age']) # we see no outliers for house_age"
   ]
  },
  {
   "cell_type": "code",
   "execution_count": 60,
   "metadata": {},
   "outputs": [
    {
     "data": {
      "text/plain": [
       "<AxesSubplot:xlabel='distance_to_the_nearest_MRT_station'>"
      ]
     },
     "execution_count": 60,
     "metadata": {},
     "output_type": "execute_result"
    },
    {
     "data": {
      "image/png": "[encoded data removed]",
      "text/plain": [
       "<Figure size 432x288 with 1 Axes>"
      ]
     },
     "metadata": {
      "needs_background": "light"
     },
     "output_type": "display_data"
    }
   ],
   "source": [
    "# we do see outliers for distance_to_the_nearest_MRT_station below\n",
    "sns.boxplot(x=cleaned_df['distance_to_the_nearest_MRT_station'])"
   ]
  },
  {
   "cell_type": "code",
   "execution_count": 61,
   "metadata": {},
   "outputs": [
    {
     "data": {
      "text/plain": [
       "<AxesSubplot:xlabel='number_of_convenience_stores'>"
      ]
     },
     "execution_count": 61,
     "metadata": {},
     "output_type": "execute_result"
    },
    {
     "data": {
      "image/png": "[encoded data removed]",
      "text/plain": [
       "<Figure size 432x288 with 1 Axes>"
      ]
     },
     "metadata": {
      "needs_background": "light"
     },
     "output_type": "display_data"
    }
   ],
   "source": [
    "# we do not see any outliers for number_of_convenience_stores below\n",
    "sns.boxplot(x=cleaned_df['number_of_convenience_stores'])"
   ]
  },
  {
   "cell_type": "code",
   "execution_count": 62,
   "metadata": {},
   "outputs": [
    {
     "data": {
      "text/plain": [
       "<AxesSubplot:xlabel='latitude'>"
      ]
     },
     "execution_count": 62,
     "metadata": {},
     "output_type": "execute_result"
    },
    {
     "data": {
      "image/png": "[encoded data removed]",
      "text/plain": [
       "<Figure size 432x288 with 1 Axes>"
      ]
     },
     "metadata": {
      "needs_background": "light"
     },
     "output_type": "display_data"
    }
   ],
   "source": [
    "# we do see outliers for latitude below\n",
    "sns.boxplot(x=cleaned_df['latitude'])"
   ]
  },
  {
   "cell_type": "code",
   "execution_count": 84,
   "metadata": {},
   "outputs": [
    {
     "data": {
      "text/plain": [
       "<AxesSubplot:xlabel='longitude'>"
      ]
     },
     "execution_count": 84,
     "metadata": {},
     "output_type": "execute_result"
    },
    {
     "data": {
      "image/png": "[encoded data removed]",
      "text/plain": [
       "<Figure size 432x288 with 1 Axes>"
      ]
     },
     "metadata": {
      "needs_background": "light"
     },
     "output_type": "display_data"
    }
   ],
   "source": [
    "# we do see outliers for longitude below\n",
    "sns.boxplot(x=cleaned_df['longitude'])"
   ]
  },
  {
   "cell_type": "code",
   "execution_count": 102,
   "metadata": {},
   "outputs": [
    {
     "data": {
      "text/plain": [
       "<AxesSubplot:xlabel='house_price_of_unit_area'>"
      ]
     },
     "execution_count": 102,
     "metadata": {},
     "output_type": "execute_result"
    },
    {
     "data": {
      "image/png": "[encoded data removed]",
      "text/plain": [
       "<Figure size 432x288 with 1 Axes>"
      ]
     },
     "metadata": {
      "needs_background": "light"
     },
     "output_type": "display_data"
    }
   ],
   "source": [
    "# we do see outliers for house_price_of_unit_area below\n",
    "sns.boxplot(x=cleaned_df['house_price_of_unit_area'])"
   ]
  },
  {
   "cell_type": "code",
   "execution_count": 113,
   "metadata": {},
   "outputs": [],
   "source": [
    "#function to remove outliers, given a dataframe and column, we calculate the IQR and remove outliers based on\n",
    "#1.5 times the IQR, returning the new dataframe without the outliers\n",
    "def remove_outliers(df, column):\n",
    "    Q1 = df[column].quantile(0.25)\n",
    "    Q3 = df[column].quantile(0.75)\n",
    "    IQR = Q3 - Q1\n",
    "    return df[~((df[column] < (Q1 - 1.5 * IQR)) |(df[column] > (Q3 + 1.5 * IQR)))]"
   ]
  },
  {
   "cell_type": "code",
   "execution_count": 120,
   "metadata": {},
   "outputs": [],
   "source": [
    "#so, based on the visualizations, we see that the latitude, longitude, distance_to_the_nearest_MRT_station\n",
    "#and house_price_of_unit_area columns all contain outliers\n",
    "\n",
    "#for simplicity and to enhance the performance of the model, lets remove these outliers\n",
    "\n",
    "#first tried by using the normal distribution, but found that removing based on 1.5 * IQR was better since\n",
    "#based on the above scatter plots, not all the distributions are normal, so using IQR is better suited\n",
    "\n",
    "#starting with latitude:\n",
    "cleaned_df_no_outliers = remove_outliers(cleaned_df, 'latitude')\n",
    "\n",
    "#now for longitude:\n",
    "cleaned_df_no_outliers = remove_outliers(cleaned_df_no_outliers, 'longitude')\n",
    "\n",
    "#now for distance_to_the_nearest_MRT_station:\n",
    "cleaned_df_no_outliers = remove_outliers(cleaned_df_no_outliers, 'distance_to_the_nearest_MRT_station')\n",
    "\n",
    "#now for house_price_of_unit_area:\n",
    "cleaned_df_no_outliers = remove_outliers(cleaned_df_no_outliers, 'house_price_of_unit_area')"
   ]
  },
  {
   "cell_type": "code",
   "execution_count": 121,
   "metadata": {},
   "outputs": [
    {
     "data": {
      "text/html": [
       "<div>\n",
       "<style scoped>\n",
       "    .dataframe tbody tr th:only-of-type {\n",
       "        vertical-align: middle;\n",
       "    }\n",
       "\n",
       "    .dataframe tbody tr th {\n",
       "        vertical-align: top;\n",
       "    }\n",
       "\n",
       "    .dataframe thead th {\n",
       "        text-align: right;\n",
       "    }\n",
       "</style>\n",
       "<table border=\"1\" class=\"dataframe\">\n",
       "  <thead>\n",
       "    <tr style=\"text-align: right;\">\n",
       "      <th></th>\n",
       "      <th>transaction_date</th>\n",
       "      <th>house_age</th>\n",
       "      <th>distance_to_the_nearest_MRT_station</th>\n",
       "      <th>number_of_convenience_stores</th>\n",
       "      <th>latitude</th>\n",
       "      <th>longitude</th>\n",
       "      <th>house_price_of_unit_area</th>\n",
       "      <th>log_house_price_of_unit_area</th>\n",
       "    </tr>\n",
       "  </thead>\n",
       "  <tbody>\n",
       "    <tr>\n",
       "      <th>0</th>\n",
       "      <td>2012.917</td>\n",
       "      <td>32.0</td>\n",
       "      <td>84.87882</td>\n",
       "      <td>10</td>\n",
       "      <td>24.98298</td>\n",
       "      <td>121.54024</td>\n",
       "      <td>37.9</td>\n",
       "      <td>3.634951</td>\n",
       "    </tr>\n",
       "    <tr>\n",
       "      <th>1</th>\n",
       "      <td>2012.917</td>\n",
       "      <td>19.5</td>\n",
       "      <td>306.59470</td>\n",
       "      <td>9</td>\n",
       "      <td>24.98034</td>\n",
       "      <td>121.53951</td>\n",
       "      <td>42.2</td>\n",
       "      <td>3.742420</td>\n",
       "    </tr>\n",
       "  </tbody>\n",
       "</table>\n",
       "</div>"
      ],
      "text/plain": [
       "   transaction_date  house_age  distance_to_the_nearest_MRT_station  \\\n",
       "0          2012.917       32.0                             84.87882   \n",
       "1          2012.917       19.5                            306.59470   \n",
       "\n",
       "   number_of_convenience_stores  latitude  longitude  \\\n",
       "0                            10  24.98298  121.54024   \n",
       "1                             9  24.98034  121.53951   \n",
       "\n",
       "   house_price_of_unit_area  log_house_price_of_unit_area  \n",
       "0                      37.9                      3.634951  \n",
       "1                      42.2                      3.742420  "
      ]
     },
     "execution_count": 121,
     "metadata": {},
     "output_type": "execute_result"
    }
   ],
   "source": [
    "#add a column for log of the house_price_of_unit_area for regression with it\n",
    "cleaned_df_with_log = cleaned_df_no_outliers.copy()\n",
    "cleaned_df_with_log['log_house_price_of_unit_area'] = np.log(cleaned_df_no_outliers['house_price_of_unit_area'])\n",
    "cleaned_df_with_log.head(2)"
   ]
  },
  {
   "cell_type": "code",
   "execution_count": 122,
   "metadata": {},
   "outputs": [],
   "source": [
    "#Now that we have cleaned the data, let's write it back to a csv so it may be loaded from any notebook\n",
    "cleaned_df_with_log.to_csv('/Users/ZachV/Documents/UMBC/Grad/DATA602/HW1/DATA602-HW1/data/real_estate_value_cleaned.csv', index = False)"
   ]
  },
  {
   "cell_type": "code",
   "execution_count": null,
   "metadata": {},
   "outputs": [],
   "source": []
  }
 ],
 "metadata": {
  "kernelspec": {
   "display_name": "Python 3",
   "language": "python",
   "name": "python3"
  },
  "language_info": {
   "codemirror_mode": {
    "name": "ipython",
    "version": 3
   },
   "file_extension": ".py",
   "mimetype": "text/x-python",
   "name": "python",
   "nbconvert_exporter": "python",
   "pygments_lexer": "ipython3",
   "version": "3.7.6"
  }
 },
 "nbformat": 4,
 "nbformat_minor": 4
}
