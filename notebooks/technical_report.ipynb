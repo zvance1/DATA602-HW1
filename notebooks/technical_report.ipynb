{
 "cells": [
  {
   "cell_type": "markdown",
   "metadata": {},
   "source": [
    "# Abstract\n",
    "\n",
    "For this project, I chose to perform data analysis on a Real Estate Valuation data set. The motivation in performing linear regression on this data is to be able to predict the house price of unit area based on other features such as the house age, distance to MRT station, number of convenience stores, and location.  Additionally, when we have a predicted price of unit area, we can see how the value compares to other homes with similar other features.  So, if the actual price per unit area is higher than the prediction, this could potentially mean that the price per unit is too high and a real estate agent may advise a buyer to look at cheaper per unit homes that have similar features.  Doing so will make buyers happier as they pay less for the similar houses giving them higher value.  This leads to more buyers coming to this real estate agent and better business for them.\n",
    "\n",
    "To perform this analysis, I will use the Real estate valuation data set from the UCI Machine Learning repository. I downloaded this data as a CSV file and began the cleaning of it from there. The data contains 7 columns and 414 entires.  The columns consist of the following: the transaction date, house age, distance to the nearest MRT station (in meters), number of convenience stores in the living circle on foot, geographic coordinate latitude, geographic coordinate longitude, and house price of unit area.  All of these columns are of type float, except for the number of convenience stores which is an integer.  A potential fall back of the data is that 414 entires is not a ton of data.  Also, after removing outliers the number of entries actually used becomes 338.  It is more of a challenge to represent accurate predictions for the outliers, but we leave those to be determined as that is a rare case.\n",
    "\n",
    "Techniques: I use pandas, seaborn, sklearn, statsmodel.api, and numpy to import, clean, and build a linear regression model on the data after importing from excel into a dataframe. The first step after reading the CSV file is to clean the data in preparation for analysis. Visualizations are created to help understand the results better.\n",
    "\n",
    "Cleaning the data: The following are the steps, techniques and assumptions I used to clean the data:\n",
    "* Read the CSV and take a look at the data using the pandas info() and head() functions.\n",
    "* The first column, No, is just an index which is not helpful so I drop it.\n",
    "* Rename the columns to replace all the spaces with underscores.\n",
    "* I used box and whisker plots to determine which columns needed outliers removed.  If the plot had points outside the IQR, I knew there were outliers to be removed from that column.  I calculate outliers to be outside the range of Q1 - 1.5 * IQR, and Q3 + 1.5 * IQR and return a dataframe that has them filtered out.\n",
    "* When performing linear regression, one thing I found is the model performed better doing the prediction of the log of the house price of unit area than the actual value, so part of the cleaning is creating an additional column, log_house_price_of_unit_area, for which we use the numpy log function to create its values as the log of the house_price_of_unit_area column.\n",
    "* Lastly, I write the cleaned pandas dataframe to a csv file to be loaded from the linear regression workbook. For the code of this cleaning, please see the load_and_clean workbook.\n",
    "\n",
    "Now, onto the linear regression model of the data:"
   ]
  },
  {
   "cell_type": "code",
   "execution_count": 1,
   "metadata": {},
   "outputs": [],
   "source": [
    "#imports\n",
    "import pandas as pd\n",
    "from sklearn.model_selection import train_test_split\n",
    "import matplotlib.pyplot as plt # for visualizations\n",
    "import seaborn as sns # for visualizations\n",
    "from sklearn.linear_model import LinearRegression #linear regression tool\n",
    "import statsmodels.api as sm #linear regression tool"
   ]
  },
  {
   "cell_type": "code",
   "execution_count": 2,
   "metadata": {},
   "outputs": [],
   "source": [
    "#read in the csv file\n",
    "house_value_df = pd.read_csv(\"../data/real_estate_value_cleaned.csv\", encoding= 'utf-8')"
   ]
  },
  {
   "cell_type": "code",
   "execution_count": 31,
   "metadata": {},
   "outputs": [],
   "source": [
    "#get the train test split\n",
    "#I choose to go with a test_size of 0.2 because with 338 entries, it is a good balance to have enough\n",
    "#testing data, but at the same time not be missing too much of the dataset for training\n",
    "X_train, X_test = train_test_split(house_value_df, test_size = 0.2) # splits the data into two parts with 1:4 ratio"
   ]
  },
  {
   "cell_type": "code",
   "execution_count": 38,
   "metadata": {},
   "outputs": [
    {
     "name": "stdout",
     "output_type": "stream",
     "text": [
      "                                 OLS Regression Results                                 \n",
      "========================================================================================\n",
      "Dep. Variable:     log_house_price_of_unit_area   R-squared:                       0.719\n",
      "Model:                                      OLS   Adj. R-squared:                  0.712\n",
      "Method:                           Least Squares   F-statistic:                     112.0\n",
      "Date:                          Mon, 21 Sep 2020   Prob (F-statistic):           1.70e-69\n",
      "Time:                                  19:08:56   Log-Likelihood:                 106.70\n",
      "No. Observations:                           270   AIC:                            -199.4\n",
      "Df Residuals:                               263   BIC:                            -174.2\n",
      "Df Model:                                     6                                         \n",
      "Covariance Type:                      nonrobust                                         \n",
      "=======================================================================================================\n",
      "                                          coef    std err          t      P>|t|      [0.025      0.975]\n",
      "-------------------------------------------------------------------------------------------------------\n",
      "const                                -587.2630    180.182     -3.259      0.001    -942.046    -232.480\n",
      "transaction_date                        0.1376      0.037      3.758      0.000       0.065       0.210\n",
      "house_age                              -0.0083      0.001     -9.768      0.000      -0.010      -0.007\n",
      "distance_to_the_nearest_MRT_station    -0.0004   2.74e-05    -12.858      0.000      -0.000      -0.000\n",
      "number_of_convenience_stores            0.0114      0.005      2.499      0.013       0.002       0.020\n",
      "latitude                                8.5472      1.135      7.530      0.000       6.312      10.782\n",
      "longitude                               0.8298      1.326      0.626      0.532      -1.781       3.441\n",
      "==============================================================================\n",
      "Omnibus:                       16.789   Durbin-Watson:                   1.797\n",
      "Prob(Omnibus):                  0.000   Jarque-Bera (JB):               47.760\n",
      "Skew:                           0.087   Prob(JB):                     4.26e-11\n",
      "Kurtosis:                       5.053   Cond. No.                     3.78e+07\n",
      "==============================================================================\n",
      "\n",
      "Warnings:\n",
      "[1] Standard Errors assume that the covariance matrix of the errors is correctly specified.\n",
      "[2] The condition number is large, 3.78e+07. This might indicate that there are\n",
      "strong multicollinearity or other numerical problems.\n"
     ]
    }
   ],
   "source": [
    "#set the training and testing data\n",
    "X = X_train[['transaction_date','house_age', 'distance_to_the_nearest_MRT_station', 'number_of_convenience_stores', 'latitude', 'longitude']]\n",
    "y = X_train.log_house_price_of_unit_area\n",
    "X = sm.add_constant(X) #add the constant to the model\n",
    "mod = sm.OLS(y, X, hasconst= True) #create the ordinary least squares model\n",
    "res = mod.fit() #fit the model\n",
    "print(res.summary()) #summarize the model"
   ]
  },
  {
   "cell_type": "markdown",
   "metadata": {},
   "source": [
    "The results of the train and test set may vary each run as the selection between the two is random.  For the results above from the model summary there are a few important takeaways.  First, we see that the R-squared is 0.719 and adjusted R-squared is 0.712 (based on the number of features involved in the model).  We will use the adjusted R-squared and interpret it to see that approximately 71.2% of the variation in the house price of unit area can be explained by the model.  To me, this seems like a pretty decent model and about as good as we can get it.  The features explaining the variance in house price of unit area are the transaction_date, house_age, distance_to_the_nearest_MRT_station, number_of_convenience_stores, latitude, and longitude.  This leads us to our next takeaways.  \n",
    "\n",
    "Looking at the next section of the results, we see that if we were to convert it to an equation, it would look like this: \n",
    "\n",
    "predicted log_house_price_of_unit_area = -587.2630 + 0.1376 * transaction_date - 0.0083 * house_age - 0.0004 * distance_to_the_nearest_MRT_station + 0.0114 * number_of_convenience_stores + 8.5472 * latitude + 0.8298 * longitude\n",
    "\n",
    "These coefficients are determined by minimizing the sum of squares of the residuals (actual - predicted).  Taking this analysis a step further, we see that all features except for longitude are proven to be statistically significant when predicting the house price of unit area.  We know this by looking at the P values, which when less than .025, we can say are significantly different enough from 0 to say for sure it has an impact (coefficient of 0 would mean house price of unit area would be indifferent no matter the value of that feature).  Another way to look at it is by looking at the [0.025      0.975] confidence interval.  We can say that we are 95% confident that the true coefficient is in that range, and if that range does not include 0, it is statistically significant enough to have an impact on the prediction.\n",
    "\n",
    "Interestingly, longitude is the only feature that is not significant.  So, I tried removing it from the model.  When removed, the R-squared drops to 0.718, and the adjusted R-squared increases to 0.713 since there is one less feature.  Due to the fact that the change in effectiveness of the model is so small, I choose to leave the longitude in the model because it helps with the interpretation - both the latitude and longitude make up location and it does not make a whole lot of sense to include one and not the other."
   ]
  },
  {
   "cell_type": "code",
   "execution_count": 33,
   "metadata": {},
   "outputs": [],
   "source": [
    "#subset the 6 column features for the test inputs\n",
    "Xtest = X_test[['transaction_date','house_age', 'distance_to_the_nearest_MRT_station', 'number_of_convenience_stores', 'latitude', 'longitude']]\n",
    "ytest = X_test.log_house_price_of_unit_area #subset the log house price as the y dependent variable\n",
    "Xtest = sm.add_constant(Xtest) #set Xtest to be the constant as inputs\n",
    "\n",
    "res.predict(Xtest); #predict using the Xtest inputs"
   ]
  },
  {
   "cell_type": "code",
   "execution_count": 34,
   "metadata": {},
   "outputs": [
    {
     "data": {
      "image/png": "[encoded data removed]",
      "text/plain": [
       "<Figure size 432x288 with 1 Axes>"
      ]
     },
     "metadata": {
      "needs_background": "light"
     },
     "output_type": "display_data"
    }
   ],
   "source": [
    "residuals = res.resid #get the residuals, use as the y axis\n",
    "\n",
    "y_pred = res.predict(X) #use the predicted y value as the x axis\n",
    "plt.scatter(y_pred, residuals)\n",
    "plt.axhline(y=0, color = 'red', label = '0')\n",
    "\n",
    "plt.xlabel('predicted values')\n",
    "plt.ylabel('residuals')\n",
    "plt.tight_layout()"
   ]
  },
  {
   "cell_type": "markdown",
   "metadata": {},
   "source": [
    "Analyzing the residual plot above, we can tell that we have generated a good model since there are no patterns in the residuals.  They are generally random.  The reason I went with the log of the house price of unit area is because when originally looking at the residual plot prior to taking the log, there was a non-constant variance of error terms - as the predicted value increased, the variance also seemed to increase."
   ]
  },
  {
   "cell_type": "markdown",
   "metadata": {},
   "source": [
    "# Challenges\n",
    "One challenge was deciding on the test_size to use.  I tried various different sizes, and determined that using the 20% seemed to generally result in the best model.  Another challenge was finding how exactly to get rid of the non-constant variance of error terms in the residuals.  The best solution seemed to be tunring the predictor into a the log of the house price of unit area."
   ]
  },
  {
   "cell_type": "markdown",
   "metadata": {},
   "source": [
    "# Results and Conclusions\n",
    "* The R-squared is approximately 0.719 and adjusted R-squared is 0.712 (based on the number of features involved in the model). We will use the adjusted R-squared and interpret it to see that approximately 71.2% of the variation in the house price of unit area can be explained by the model. To me, this seems like a pretty decent model and about as good as we can get it.\n",
    "* Looking at the next section of the results, we see that if we were to convert it to an equation, it would look like this:\n",
    "    * predicted log_house_price_of_unit_area = -587.2630 + 0.1376 * transaction_date - 0.0083 * house_age - 0.0004 * distance_to_the_nearest_MRT_station + 0.0114 * number_of_convenience_stores + 8.5472 * latitude + 0.8298 * longitude\n",
    "* Longitude is the only feature that is not significant. So, I tried removing it from the model. When removed, the R-squared drops to 0.718, and the adjusted R-squared increases to 0.713 since there is one less feature. Due to the fact that the change in effectiveness of the model is so small, I choose to leave the longitude in the model because it helps with the interpretation - both the latitude and longitude make up location and it does not make a whole lot of sense to include one and not the other.\n",
    "* Analyzing the residual plot, we can tell that we have generated a good model since there are no patterns in the residuals. They are generally random. The reason I went with the log of the house price of unit area is because when originally looking at the residual plot prior to taking the log, there was a non-constant variance of error terms - as the predicted value increased, the variance also seemed to increase."
   ]
  },
  {
   "cell_type": "code",
   "execution_count": null,
   "metadata": {},
   "outputs": [],
   "source": []
  }
 ],
 "metadata": {
  "kernelspec": {
   "display_name": "Python 3",
   "language": "python",
   "name": "python3"
  },
  "language_info": {
   "codemirror_mode": {
    "name": "ipython",
    "version": 3
   },
   "file_extension": ".py",
   "mimetype": "text/x-python",
   "name": "python",
   "nbconvert_exporter": "python",
   "pygments_lexer": "ipython3",
   "version": "3.7.6"
  }
 },
 "nbformat": 4,
 "nbformat_minor": 4
}
